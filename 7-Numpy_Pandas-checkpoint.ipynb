{
 "cells": [
  {
   "cell_type": "code",
   "execution_count": 2,
   "id": "8a274675-0360-4005-9d9c-c44c8062561f",
   "metadata": {},
   "outputs": [
    {
     "name": "stdout",
     "output_type": "stream",
     "text": [
      "Original array:\n",
      "[ 1  2  3  4  5  6  7  8  9 10]\n"
     ]
    }
   ],
   "source": [
    "#Exercise 1: Create a numpy array and reshape it\n",
    "\n",
    "import numpy as np\n",
    "\n",
    "# Create a numpy array\n",
    "array = np.arange(1, 11)\n",
    "print(\"Original array:\")\n",
    "print(array)\n"
   ]
  },
  {
   "cell_type": "code",
   "execution_count": 4,
   "id": "09833a7f-bdfb-421f-b60c-d01e47ebbaad",
   "metadata": {},
   "outputs": [
    {
     "name": "stdout",
     "output_type": "stream",
     "text": [
      "\n",
      "Reshaped array:\n",
      "[[ 1  2  3  4  5]\n",
      " [ 6  7  8  9 10]]\n"
     ]
    }
   ],
   "source": [
    "# Reshape the array to a 2x5 matrix\n",
    "array = array.reshape(2, 5)\n",
    "print(\"\\nReshaped array:\")\n",
    "print(array)"
   ]
  },
  {
   "cell_type": "code",
   "execution_count": 8,
   "id": "effd9039-4a99-4356-9776-0f2623f0c1d3",
   "metadata": {},
   "outputs": [
    {
     "name": "stdout",
     "output_type": "stream",
     "text": [
      "Original array:\n",
      "[ 1  2  3  4  5  6  7  8  9 10 11 12 13 14 15 16 17 18 19 20]\n"
     ]
    }
   ],
   "source": [
    "#Exercise 2: Extract elements from a numpy array\n",
    "\n",
    "import numpy as np\n",
    "\n",
    "# Create a numpy array\n",
    "array = np.arange(1, 21)\n",
    "print(\"Original array:\")\n",
    "print(array)\n",
    "\n"
   ]
  },
  {
   "cell_type": "code",
   "execution_count": 10,
   "id": "3b027693-f28c-4fe9-b28b-666ebb300434",
   "metadata": {},
   "outputs": [
    {
     "name": "stdout",
     "output_type": "stream",
     "text": [
      "\n",
      "Extracted array:\n",
      "[ 6  7  8  9 10 11 12 13 14 15 16]\n"
     ]
    }
   ],
   "source": [
    "# Extract elements between the 5th and 15th index\n",
    "extracted_array = array[5:16]\n",
    "print(\"\\nExtracted array:\")\n",
    "print(extracted_array)"
   ]
  },
  {
   "cell_type": "code",
   "execution_count": 12,
   "id": "fcd99704-39a9-454d-9477-fc7466657e3b",
   "metadata": {},
   "outputs": [
    {
     "name": "stdout",
     "output_type": "stream",
     "text": [
      "Original series:\n",
      "apples     3\n",
      "bananas    2\n",
      "oranges    1\n",
      "dtype: int64\n"
     ]
    }
   ],
   "source": [
    "#Exercise 3: Create and modify a Pandas series\n",
    "\n",
    "import pandas as pd\n",
    "\n",
    "# Create a Pandas series\n",
    "series = pd.Series({'apples': 3, 'bananas': 2, 'oranges': 1})\n",
    "print(\"Original series:\")\n",
    "print(series)\n"
   ]
  },
  {
   "cell_type": "code",
   "execution_count": 14,
   "id": "6361fe53-d916-4428-b4d2-f49157de5fc9",
   "metadata": {},
   "outputs": [
    {
     "name": "stdout",
     "output_type": "stream",
     "text": [
      "\n",
      "Updated series:\n",
      "apples     3\n",
      "bananas    2\n",
      "oranges    1\n",
      "pears      4\n",
      "dtype: int64\n"
     ]
    }
   ],
   "source": [
    "\n",
    "# Add a new item to the series\n",
    "series['pears'] = 4\n",
    "print(\"\\nUpdated series:\")\n",
    "print(series)"
   ]
  },
  {
   "cell_type": "code",
   "execution_count": 18,
   "id": "aba4ae82-bb52-4468-8f0a-b71e8c9f167e",
   "metadata": {},
   "outputs": [
    {
     "name": "stdout",
     "output_type": "stream",
     "text": [
      "Dataframe:\n",
      "      name  age  gender\n",
      "0  Krishna   25    Male\n",
      "1  Johnson   30    Male\n",
      "2   Robert   28    Male\n",
      "3   Alfred   35    Male\n",
      "4    Samad   40    Male\n",
      "5    David   22    Male\n",
      "6     Licy   38  Female\n",
      "7   Fredic   45    Male\n",
      "8     Maya   32  Female\n",
      "9     Vani   29  Female\n"
     ]
    }
   ],
   "source": [
    "#Exercise 4: Create a Pandas dataframe\n",
    "\n",
    "import pandas as pd\n",
    "\n",
    "# Create a Pandas dataframe\n",
    "data = {\n",
    "    'name': ['Krishna', 'Johnson', 'Robert', 'Alfred', 'Samad', 'David', 'Licy', 'Fredic', 'Maya', 'Vani'],\n",
    "    'age': [25, 30, 28, 35, 40, 22, 38, 45, 32, 29],\n",
    "    'gender': ['Male', 'Male', 'Male', 'Male', 'Male', 'Male', 'Female', 'Male', 'Female', 'Female']\n",
    "}\n",
    "df = pd.DataFrame(data)\n",
    "print(\"Dataframe:\")\n",
    "print(df)"
   ]
  },
  {
   "cell_type": "code",
   "execution_count": 20,
   "id": "b240b180-c844-4378-a14c-cde2394028f2",
   "metadata": {},
   "outputs": [
    {
     "name": "stdout",
     "output_type": "stream",
     "text": [
      "\n",
      "Updated dataframe:\n",
      "      name  age  gender  occupation\n",
      "0  Krishna   25    Male  Programmer\n",
      "1  Johnson   30    Male     Manager\n",
      "2   Robert   28    Male     Analyst\n",
      "3   Alfred   35    Male  Programmer\n",
      "4    Samad   40    Male     Manager\n",
      "5    David   22    Male     Analyst\n",
      "6     Licy   38  Female  Programmer\n",
      "7   Fredic   45    Male     Manager\n",
      "8     Maya   32  Female     Analyst\n",
      "9     Vani   29  Female  Programmer\n"
     ]
    }
   ],
   "source": [
    "#Exercise 5: Add a new column to the dataframe\n",
    "\n",
    "# Add a new column to the dataframe\n",
    "occupations = ['Programmer', 'Manager', 'Analyst', 'Programmer', 'Manager', 'Analyst', 'Programmer', 'Manager', 'Analyst', 'Programmer']\n",
    "df['occupation'] = occupations\n",
    "print(\"\\nUpdated dataframe:\")\n",
    "print(df)"
   ]
  },
  {
   "cell_type": "code",
   "execution_count": 22,
   "id": "b755328e-2aa4-4a39-a173-3e396d58b77e",
   "metadata": {},
   "outputs": [
    {
     "name": "stdout",
     "output_type": "stream",
     "text": [
      "\n",
      "Selected rows:\n",
      "      name  age  gender  occupation\n",
      "1  Johnson   30    Male     Manager\n",
      "3   Alfred   35    Male  Programmer\n",
      "4    Samad   40    Male     Manager\n",
      "6     Licy   38  Female  Programmer\n",
      "7   Fredic   45    Male     Manager\n",
      "8     Maya   32  Female     Analyst\n"
     ]
    }
   ],
   "source": [
    "#Exercise 6: Select rows based on a condition\n",
    "\n",
    "# Select rows where age is greater than or equal to 30\n",
    "selected_rows = df[df['age'] >= 30]\n",
    "print(\"\\nSelected rows:\")\n",
    "print(selected_rows)"
   ]
  },
  {
   "cell_type": "code",
   "execution_count": 24,
   "id": "6ecea053-4c30-4750-86e4-ee13cb2f4661",
   "metadata": {},
   "outputs": [
    {
     "name": "stdout",
     "output_type": "stream",
     "text": [
      "\n",
      "Contents of the CSV file:\n",
      "      name  age  gender  occupation\n",
      "0  Krishna   25    Male  Programmer\n",
      "1  Johnson   30    Male     Manager\n",
      "2   Robert   28    Male     Analyst\n",
      "3   Alfred   35    Male  Programmer\n",
      "4    Samad   40    Male     Manager\n",
      "5    David   22    Male     Analyst\n",
      "6     Licy   38  Female  Programmer\n",
      "7   Fredic   45    Male     Manager\n",
      "8     Maya   32  Female     Analyst\n",
      "9     Vani   29  Female  Programmer\n"
     ]
    }
   ],
   "source": [
    "#Exercise 7: Convert dataframe to CSV and read it\n",
    "\n",
    "# Convert dataframe to CSV\n",
    "df.to_csv('data.csv', index=False)\n",
    "\n",
    "# Read the CSV file\n",
    "read_df = pd.read_csv('data.csv')\n",
    "print(\"\\nContents of the CSV file:\")\n",
    "print(read_df)"
   ]
  },
  {
   "cell_type": "code",
   "execution_count": null,
   "id": "2d58236f-85e6-4bd3-95b1-aa0b301e036d",
   "metadata": {},
   "outputs": [],
   "source": []
  }
 ],
 "metadata": {
  "kernelspec": {
   "display_name": "Python [conda env:base] *",
   "language": "python",
   "name": "conda-base-py"
  },
  "language_info": {
   "codemirror_mode": {
    "name": "ipython",
    "version": 3
   },
   "file_extension": ".py",
   "mimetype": "text/x-python",
   "name": "python",
   "nbconvert_exporter": "python",
   "pygments_lexer": "ipython3",
   "version": "3.12.7"
  }
 },
 "nbformat": 4,
 "nbformat_minor": 5
}
